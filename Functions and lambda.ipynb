{
 "cells": [
  {
   "cell_type": "markdown",
   "metadata": {},
   "source": [
    "# Random password generator"
   ]
  },
  {
   "cell_type": "code",
   "execution_count": 1,
   "metadata": {},
   "outputs": [],
   "source": [
    "# Install the libraries\n",
    "import random #To generate anything randomly"
   ]
  },
  {
   "cell_type": "code",
   "execution_count": 2,
   "metadata": {},
   "outputs": [],
   "source": [
    "# I wantmy password length to be 6 digits\n",
    "passowrd_length=6\n",
    "\n",
    "# Take it from these characters and numbers and aplhabets\n",
    "Pick= \"abcdefghijklmnopqrstuvwxyz01234567890ABCDEFGHIJKLMNOPQRSTUVWXYZ!@#$%^&*()?\""
   ]
  },
  {
   "cell_type": "code",
   "execution_count": 3,
   "metadata": {},
   "outputs": [
    {
     "name": "stdout",
     "output_type": "stream",
     "text": [
      "The generated password is: i x ? 0 X K\n"
     ]
    }
   ],
   "source": [
    "password=\" \".join(random.sample(Pick, passowrd_length))\n",
    "print(\"The generated password is:\", password)"
   ]
  },
  {
   "cell_type": "code",
   "execution_count": 4,
   "metadata": {},
   "outputs": [
    {
     "name": "stdout",
     "output_type": "stream",
     "text": [
      "The generated password is: ['C', 'w', 'q', 'Y', 'R', '@']\n"
     ]
    }
   ],
   "source": [
    "password=(random.sample(Pick, passowrd_length))\n",
    "print(\"The generated password is:\", password)"
   ]
  },
  {
   "cell_type": "markdown",
   "metadata": {},
   "source": [
    "# A small program"
   ]
  },
  {
   "cell_type": "code",
   "execution_count": 5,
   "metadata": {},
   "outputs": [
    {
     "name": "stdout",
     "output_type": "stream",
     "text": [
      "2\n",
      "3\n",
      "4\n",
      "5\n",
      "6\n",
      "7\n",
      "8\n",
      "9\n",
      "10\n"
     ]
    }
   ],
   "source": [
    "for x in range(2,11):\n",
    "    print(x)"
   ]
  },
  {
   "cell_type": "markdown",
   "metadata": {},
   "source": [
    "# Lamda Functions"
   ]
  },
  {
   "cell_type": "code",
   "execution_count": 6,
   "metadata": {},
   "outputs": [],
   "source": [
    "# Write a Python program to create a lambda function that adds 15 to a given number passed in as an argument, \n",
    "#also create a lambda function that multiplies argument x with argument y and print the result."
   ]
  },
  {
   "cell_type": "code",
   "execution_count": 7,
   "metadata": {},
   "outputs": [
    {
     "name": "stdout",
     "output_type": "stream",
     "text": [
      "20\n"
     ]
    }
   ],
   "source": [
    "Add=lambda a:a+15\n",
    "print(Add(5))"
   ]
  },
  {
   "cell_type": "code",
   "execution_count": 8,
   "metadata": {},
   "outputs": [
    {
     "name": "stdout",
     "output_type": "stream",
     "text": [
      "20\n"
     ]
    }
   ],
   "source": [
    "multiply=lambda x,y:x*y\n",
    "print(multiply(5,4))"
   ]
  },
  {
   "cell_type": "markdown",
   "metadata": {},
   "source": [
    "# Write a Python program to sort a list of tuples using Lambda."
   ]
  },
  {
   "cell_type": "code",
   "execution_count": 9,
   "metadata": {},
   "outputs": [
    {
     "name": "stdout",
     "output_type": "stream",
     "text": [
      "The original list of tuples is: [('science', 85), ('english', 95), ('maths', 90)]\n"
     ]
    }
   ],
   "source": [
    "List_of_tuples=[(\"science\", 85), (\"english\", 95), (\"maths\", 90)]\n",
    "print(\"The original list of tuples is:\", List_of_tuples)"
   ]
  },
  {
   "cell_type": "code",
   "execution_count": 10,
   "metadata": {},
   "outputs": [
    {
     "name": "stdout",
     "output_type": "stream",
     "text": [
      "The sorted list of tuples is: [('english', 95), ('maths', 90), ('science', 85)]\n"
     ]
    }
   ],
   "source": [
    "List_of_tuples.sort(key = lambda x:x[0])  #descending order\n",
    "print(\"The sorted list of tuples is:\", List_of_tuples)"
   ]
  },
  {
   "cell_type": "markdown",
   "metadata": {},
   "source": [
    "# 4. Write a Python program to sort a list of dictionaries using Lambda"
   ]
  },
  {
   "cell_type": "code",
   "execution_count": 11,
   "metadata": {},
   "outputs": [
    {
     "name": "stdout",
     "output_type": "stream",
     "text": [
      "The orginial list: [{'make': 'Nokia', 'model': '216', 'color': 'Red'}, {'make': 'Mi Max', 'model': '220', 'color': 'Gold'}, {'make': 'samsung', 'model': '7', 'color': 'Blue'}]\n",
      "The sorted list: [{'make': 'samsung', 'model': '7', 'color': 'Blue'}, {'make': 'Mi Max', 'model': '220', 'color': 'Gold'}, {'make': 'Nokia', 'model': '216', 'color': 'Red'}]\n"
     ]
    }
   ],
   "source": [
    "models=[{\"make\":\"Nokia\", \"model\":\"216\", \"color\":\"Red\"}, {\"make\":\"Mi Max\", \"model\":\"220\", \"color\":\"Gold\"}, {\"make\":\"samsung\", \"model\":\"7\", \"color\":\"Blue\"}]\n",
    "print(\"The orginial list:\", models)\n",
    "sorted_models=sorted(models, key =lambda x:x[\"color\"] )\n",
    "print(\"The sorted list:\", sorted_models)"
   ]
  },
  {
   "cell_type": "markdown",
   "metadata": {},
   "source": [
    "# 5.Write a Python function to find the Max of three numbers."
   ]
  },
  {
   "cell_type": "code",
   "execution_count": 12,
   "metadata": {},
   "outputs": [
    {
     "name": "stdout",
     "output_type": "stream",
     "text": [
      "The max of three numbers: 8\n"
     ]
    }
   ],
   "source": [
    "def max_of_two(x,y):\n",
    "    if x>y:\n",
    "        return x\n",
    "    return y\n",
    "def max_of_three(x,y,z):\n",
    "    return max_of_two(x,max_of_two(y,z))\n",
    "print(\"The max of three numbers:\", max_of_three(6,8,7))"
   ]
  },
  {
   "cell_type": "markdown",
   "metadata": {},
   "source": [
    "# 6. Write a Python function to sum all the numbers in a list."
   ]
  },
  {
   "cell_type": "code",
   "execution_count": 13,
   "metadata": {},
   "outputs": [
    {
     "name": "stdout",
     "output_type": "stream",
     "text": [
      "15\n"
     ]
    }
   ],
   "source": [
    "numbers=[1,2,3,4,5]\n",
    "def sum(numbers):\n",
    "    total=0\n",
    "    for x in numbers:\n",
    "        total=total+x\n",
    "    return total\n",
    "print(sum(numbers))\n"
   ]
  },
  {
   "cell_type": "code",
   "execution_count": 14,
   "metadata": {},
   "outputs": [
    {
     "name": "stdout",
     "output_type": "stream",
     "text": [
      "27\n"
     ]
    }
   ],
   "source": [
    "numbers=[2,3,4,5,6,7]\n",
    "def sum(numbers):\n",
    "    total=0\n",
    "    for x in numbers:\n",
    "        total=total+x\n",
    "    return total\n",
    "print(sum(numbers))"
   ]
  },
  {
   "cell_type": "markdown",
   "metadata": {},
   "source": [
    "# Write a Python function to multiply all the numbers in a list."
   ]
  },
  {
   "cell_type": "code",
   "execution_count": 15,
   "metadata": {},
   "outputs": [
    {
     "name": "stdout",
     "output_type": "stream",
     "text": [
      "720\n"
     ]
    }
   ],
   "source": [
    "numbers=[1,2,3,4,5,6]\n",
    "def multiply(numbers):\n",
    "    total=1\n",
    "    for x in numbers:\n",
    "        total=total*x\n",
    "    return total\n",
    "print(multiply(numbers))\n",
    "        "
   ]
  },
  {
   "cell_type": "code",
   "execution_count": 16,
   "metadata": {},
   "outputs": [
    {
     "name": "stdout",
     "output_type": "stream",
     "text": [
      "5040\n"
     ]
    }
   ],
   "source": [
    "numbers=[1,2,3,4,5,6,7]\n",
    "def multiply(numbers):\n",
    "    total=1\n",
    "    for x in numbers:\n",
    "        total=total*x\n",
    "    return total\n",
    "print(multiply(numbers))\n",
    "    "
   ]
  },
  {
   "cell_type": "markdown",
   "metadata": {},
   "source": [
    "#  Write a Python program to reverse a string."
   ]
  },
  {
   "cell_type": "code",
   "execution_count": 17,
   "metadata": {},
   "outputs": [
    {
     "name": "stdout",
     "output_type": "stream",
     "text": [
      "b e e j u m\n"
     ]
    }
   ],
   "source": [
    "def reverse(string):\n",
    "    string=\" \".join(reversed(string))\n",
    "    return string\n",
    "print(reverse(\"mujeeb\"))"
   ]
  },
  {
   "cell_type": "markdown",
   "metadata": {},
   "source": [
    "# Write a Python function to check whether a number is in a given range."
   ]
  },
  {
   "cell_type": "code",
   "execution_count": 18,
   "metadata": {},
   "outputs": [
    {
     "name": "stdout",
     "output_type": "stream",
     "text": [
      " 4 is in the range\n"
     ]
    }
   ],
   "source": [
    "def number(n):\n",
    "    if n in range(3,11):\n",
    "        print(\" %s is in the range\"%str(n))\n",
    "    else:\n",
    "        print(\"I am sorry it is not present\")\n",
    "number(4)"
   ]
  },
  {
   "cell_type": "code",
   "execution_count": 19,
   "metadata": {},
   "outputs": [
    {
     "name": "stdout",
     "output_type": "stream",
     "text": [
      " 5 is in the range\n"
     ]
    }
   ],
   "source": [
    "def number(n):\n",
    "    if n in range(3,11):\n",
    "        print(\" %s is in the range\"%str(n))\n",
    "    else:\n",
    "        print(\"I am sorry try again\")\n",
    "number(5)"
   ]
  },
  {
   "cell_type": "markdown",
   "metadata": {},
   "source": [
    "# Write a Python function that accepts a string and calculate the number of upper case letters and lower case letters."
   ]
  },
  {
   "cell_type": "code",
   "execution_count": 20,
   "metadata": {},
   "outputs": [
    {
     "name": "stdout",
     "output_type": "stream",
     "text": [
      "Enter the string:MUJeeb\n",
      "The original string MUJeeb\n",
      "The number of upper case letters 3\n",
      "The number of upper case letters 3\n"
     ]
    }
   ],
   "source": [
    "input_string=input(str(\"Enter the string:\"))\n",
    "def string1(input_string):\n",
    "    d={\"upper case\":0, \"lower case\":0}\n",
    "    for word in input_string:\n",
    "        if word.isupper():\n",
    "            d[\"upper case\"]+=1\n",
    "        elif word.islower():\n",
    "            d[\"lower case\"]+=1\n",
    "        else:\n",
    "            pass\n",
    "    print(\"The original string\", input_string)\n",
    "    print(\"The number of upper case letters\", d[\"upper case\"])\n",
    "    print(\"The number of upper case letters\", d[\"lower case\"])\n",
    "string1(input_string)\n",
    "            \n",
    "        \n",
    "        "
   ]
  },
  {
   "cell_type": "markdown",
   "metadata": {},
   "source": [
    "#  Write a Python function that takes a number as a parameter and check the number is prime or not."
   ]
  },
  {
   "cell_type": "code",
   "execution_count": 26,
   "metadata": {},
   "outputs": [
    {
     "data": {
      "text/plain": [
       "False"
      ]
     },
     "execution_count": 26,
     "metadata": {},
     "output_type": "execute_result"
    }
   ],
   "source": [
    "def prime(n):\n",
    "    if n==1:\n",
    "        return False\n",
    "    elif n==2:\n",
    "        return True\n",
    "    else:\n",
    "        for x in range (2,n):\n",
    "            if (n%x==0):\n",
    "                return False\n",
    "        return True\n",
    "prime(6)\n",
    "    \n",
    "    "
   ]
  },
  {
   "cell_type": "code",
   "execution_count": 28,
   "metadata": {},
   "outputs": [
    {
     "data": {
      "text/plain": [
       "False"
      ]
     },
     "execution_count": 28,
     "metadata": {},
     "output_type": "execute_result"
    }
   ],
   "source": [
    "def prime(n):\n",
    "    if n==1:\n",
    "        return False\n",
    "    elif n==2:\n",
    "        return True\n",
    "    else:\n",
    "        for x in range(2,n):\n",
    "            if (n%x==0):\n",
    "                return False\n",
    "        return True\n",
    "prime(9)"
   ]
  },
  {
   "cell_type": "markdown",
   "metadata": {},
   "source": [
    "#  Write a Python program to print the even numbers from a given list"
   ]
  },
  {
   "cell_type": "code",
   "execution_count": 32,
   "metadata": {},
   "outputs": [
    {
     "name": "stdout",
     "output_type": "stream",
     "text": [
      "It's an even number\n",
      "It's an even number\n",
      "It's an even number\n"
     ]
    },
    {
     "data": {
      "text/plain": [
       "[2, 4, 6]"
      ]
     },
     "execution_count": 32,
     "metadata": {},
     "output_type": "execute_result"
    }
   ],
   "source": [
    "numbers=[1,2,3,4,5,6]\n",
    "def even_odd(numbers):\n",
    "    num1=[]\n",
    "    for num in numbers:\n",
    "        if num%2==0:\n",
    "            print(\"It's an even number\")\n",
    "            num1.append(num)\n",
    "    return num1\n",
    "even_odd(numbers)"
   ]
  },
  {
   "cell_type": "code",
   "execution_count": null,
   "metadata": {},
   "outputs": [],
   "source": []
  },
  {
   "cell_type": "code",
   "execution_count": null,
   "metadata": {},
   "outputs": [],
   "source": []
  }
 ],
 "metadata": {
  "kernelspec": {
   "display_name": "Python 3",
   "language": "python",
   "name": "python3"
  },
  "language_info": {
   "codemirror_mode": {
    "name": "ipython",
    "version": 3
   },
   "file_extension": ".py",
   "mimetype": "text/x-python",
   "name": "python",
   "nbconvert_exporter": "python",
   "pygments_lexer": "ipython3",
   "version": "3.7.4"
  }
 },
 "nbformat": 4,
 "nbformat_minor": 2
}
