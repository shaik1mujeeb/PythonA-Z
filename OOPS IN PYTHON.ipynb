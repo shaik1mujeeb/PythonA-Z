{
 "cells": [
  {
   "cell_type": "markdown",
   "metadata": {},
   "source": [
    "# Classes:Class is a user defined data type. ex:Phone"
   ]
  },
  {
   "cell_type": "markdown",
   "metadata": {},
   "source": [
    "# Object: Objects are specific instances of a class ex: aaple, mototola, samsung"
   ]
  },
  {
   "cell_type": "code",
   "execution_count": 4,
   "metadata": {},
   "outputs": [
    {
     "name": "stdout",
     "output_type": "stream",
     "text": [
      "I am making a call\n",
      "I wanna play a game\n"
     ]
    }
   ],
   "source": [
    "class Phone():\n",
    "    def make_calls(self):  # Method inside a class\n",
    "        print(\"I am making a call\")\n",
    "    def play_game(self):\n",
    "        print(\"I wanna play a game\")\n",
    "        \n",
    "p1=Phone()       # Instantiating the \"p1\" object\n",
    "p1.make_calls()   # Unvoking methods throgh an object\n",
    "p1.play_game()\n"
   ]
  },
  {
   "cell_type": "code",
   "execution_count": 5,
   "metadata": {},
   "outputs": [
    {
     "name": "stdout",
     "output_type": "stream",
     "text": [
      "Fuck you I am gonna make a call\n",
      "I hate playing games\n"
     ]
    }
   ],
   "source": [
    "class Phone():\n",
    "    def make_call(self):\n",
    "        print(\"Fuck you I am gonna make a call\")\n",
    "    def play_game(self):\n",
    "        print(\"I hate playing games\")\n",
    "p1=Phone()\n",
    "p1.make_call()\n",
    "p1.play_game()"
   ]
  },
  {
   "cell_type": "markdown",
   "metadata": {},
   "source": [
    "# Adding Parameters to the class"
   ]
  },
  {
   "cell_type": "code",
   "execution_count": 16,
   "metadata": {},
   "outputs": [
    {
     "name": "stdout",
     "output_type": "stream",
     "text": [
      "make a call\n"
     ]
    },
    {
     "data": {
      "text/plain": [
       "'100000'"
      ]
     },
     "execution_count": 16,
     "metadata": {},
     "output_type": "execute_result"
    }
   ],
   "source": [
    "class phone():\n",
    "    def color(self, color):\n",
    "        self.color=color\n",
    "    def cost(self, cost):\n",
    "        self.cost=cost\n",
    "    def show_cost(self):      # Setting and returning the attribute values\n",
    "        return self.cost     \n",
    "    def show_color(self):\n",
    "        return self.color\n",
    "    def make_call(self):\n",
    "        print(\"make a call\")\n",
    "    def play_game(self):\n",
    "        print(\"play a game\")\n",
    "p2=phone()\n",
    "p2.color(\"blue\")\n",
    "p2.cost(\"100000\")\n",
    "p2.make_call()\n",
    "p2.show_cost()\n",
    "\n"
   ]
  },
  {
   "cell_type": "code",
   "execution_count": 27,
   "metadata": {},
   "outputs": [
    {
     "data": {
      "text/plain": [
       "'100000'"
      ]
     },
     "execution_count": 27,
     "metadata": {},
     "output_type": "execute_result"
    }
   ],
   "source": [
    "p2.show_cost()"
   ]
  },
  {
   "cell_type": "markdown",
   "metadata": {},
   "source": [
    "# Creating a class with Constructor"
   ]
  },
  {
   "cell_type": "code",
   "execution_count": 32,
   "metadata": {},
   "outputs": [
    {
     "name": "stdout",
     "output_type": "stream",
     "text": [
      "The name of an employee is: Mujeeb\n",
      "The name of an employee is: 25\n",
      "The name of an employee is: 40000\n",
      "The name of an employee is: Male\n"
     ]
    }
   ],
   "source": [
    "class employee():\n",
    "    def __init__(self, name, age,salary,gender):   # init as a constructor instead of many methods\n",
    "        self.name=name\n",
    "        self.age=age\n",
    "        self.salary=salary\n",
    "        self.gender=gender\n",
    "    def employee_details(self):\n",
    "        print(\"The name of an employee is:\",self.name)\n",
    "        print(\"The name of an employee is:\",self.age)\n",
    "        print(\"The name of an employee is:\",self.salary)\n",
    "        print(\"The name of an employee is:\",self.gender)\n",
    "e1=employee(\"Mujeeb\", \"25\", \"40000\", \"Male\")\n",
    "e1.employee_details()\n",
    "        \n",
    "    "
   ]
  },
  {
   "cell_type": "markdown",
   "metadata": {},
   "source": [
    "# Inheritance in Python"
   ]
  },
  {
   "cell_type": "raw",
   "metadata": {},
   "source": [
    "# It's like chid inheriting features from father\n",
    "# With Inheritance one class can derive the properties of another\n",
    "# Inhertiance Example"
   ]
  },
  {
   "cell_type": "code",
   "execution_count": 6,
   "metadata": {},
   "outputs": [
    {
     "name": "stdout",
     "output_type": "stream",
     "text": [
      "The name of the vehicle is BMW\n",
      "The mileage of my fav.vehicle is 10\n",
      "The cost of the vehicle is 100000\n",
      "The name of the vehicle is BMW\n",
      "The mileage of my fav.vehicle is 8\n",
      "The cost of the vehicle is 100000\n",
      "It's a vehicle\n"
     ]
    }
   ],
   "source": [
    "class vehicle(): # Base class\n",
    "    def __init__(self,name,mileage,cost):\n",
    "        self.name=name\n",
    "        self.mileage=mileage\n",
    "        self.cost=cost\n",
    "    def show_vehicle(self):\n",
    "        print(\"The name of the vehicle is\",self.name)\n",
    "        print(\"The mileage of my fav.vehicle is\", self.mileage)\n",
    "        print(\"The cost of the vehicle is\", self.cost)\n",
    "v1=vehicle(\"BMW\", \"10\", \"100000\")   # instantiating the object\n",
    "v1.show_vehicle()\n",
    "\n",
    "class child(vehicle):    # Child class\n",
    "    def show_child(self):\n",
    "        print(\"It's a vehicle\")\n",
    "c1=child('BMW', '8', \"100000\")\n",
    "c1.show_vehicle()    #instatntiating the object for child class\n",
    "c1.show_child()      # Invoking the child class method\n",
    "        "
   ]
  },
  {
   "cell_type": "markdown",
   "metadata": {},
   "source": [
    "# Overriding init method"
   ]
  },
  {
   "cell_type": "code",
   "execution_count": 11,
   "metadata": {},
   "outputs": [
    {
     "name": "stdout",
     "output_type": "stream",
     "text": [
      "The name of the vehicle is BMW\n",
      "The mileage of the vehicle is 10\n",
      "The cost of the vehicle is 100k\n",
      " I am a car\n",
      "The tyres are MRF\n",
      "The hp is  500\n"
     ]
    }
   ],
   "source": [
    "class vehicle():\n",
    "    def __init__(self, name, mileage,cost):\n",
    "        self.name=name\n",
    "        self.mileage=mileage\n",
    "        self.cost=cost\n",
    "    def vehicle_details(self):\n",
    "        print(\"The name of the vehicle is\", self.name)\n",
    "        print(\"The mileage of the vehicle is\", self.mileage)\n",
    "        print(\"The cost of the vehicle is\", self.cost)\n",
    "class car(vehicle):\n",
    "    def __init__(self,name, mileage, cost,tyres,hp):    #overriding init method\n",
    "        super(). __init__(name,mileage, cost)    # inheriting from previous class\n",
    "        self.tyres=tyres\n",
    "        self.hp=hp\n",
    "            \n",
    "    def car_details(self):\n",
    "        print(\" I am a car\")\n",
    "        print(\"The tyres are\", self.tyres)\n",
    "        print(\"The hp is \", self.hp)\n",
    "\n",
    "c1=car(\"BMW\",\"10\",\"100k\", \"MRF\", \"500\")\n",
    "c1.vehicle_details()              # Invoking vehicle_details method from parent class\n",
    "c1.car_details()   # Invoking from child class\n",
    "\n",
    "    "
   ]
  },
  {
   "cell_type": "code",
   "execution_count": 14,
   "metadata": {},
   "outputs": [
    {
     "name": "stdout",
     "output_type": "stream",
     "text": [
      "The name of an employee is: Mujeeb\n",
      "Salary is: 25k\n",
      "His designation is: Data scientist\n"
     ]
    }
   ],
   "source": [
    "class Employee():\n",
    "    def __init__(self, name, salary,designation):\n",
    "        self.name=name\n",
    "        self.salary=salary\n",
    "        self.designation=designation\n",
    "    def show_details1(self):\n",
    "        print(\"The name of an employee is:\", self.name)\n",
    "        print(\"Salary is:\", self.salary)\n",
    "        print(\"His designation is:\", self.designation)\n",
    "class company(Employee):\n",
    "    def __init__(self,name, salary, designation, comp):\n",
    "        super().__init__(name, salary, designation)\n",
    "        self.comp=comp\n",
    "    def show_details(self):\n",
    "        print(\"The name of the company is\", self.comp)\n",
    "        \n",
    "E1=Employee(\"Mujeeb\", \"25k\", \"Data scientist\")\n",
    "E1.show_details1()\n",
    "        "
   ]
  },
  {
   "cell_type": "code",
   "execution_count": 16,
   "metadata": {},
   "outputs": [
    {
     "name": "stdout",
     "output_type": "stream",
     "text": [
      "The name of an employee is: Mujeeb\n",
      "Salary is: 25k\n",
      "His designation is: Data scientist\n",
      "The name of the company is Knoah\n"
     ]
    }
   ],
   "source": [
    "c1=company(\"Mujeeb\", \"25k\", \"Data scientist\", 'Knoah')\n",
    "c1.show_details1()\n",
    "c1.show_details()"
   ]
  },
  {
   "cell_type": "markdown",
   "metadata": {},
   "source": [
    "# Multiple Inheritance- The child inherits from more than 1 parent class"
   ]
  },
  {
   "cell_type": "code",
   "execution_count": 23,
   "metadata": {},
   "outputs": [
    {
     "name": "stdout",
     "output_type": "stream",
     "text": [
      "Mujeeb\n",
      "Ur\n",
      "Rahman\n"
     ]
    }
   ],
   "source": [
    "# parent class one:\n",
    "class parent1():\n",
    "    def assign_string1(self, str1):\n",
    "        self.str1=str1\n",
    "    def show_str1(self):\n",
    "        return self.str1\n",
    "class parent2():\n",
    "    def assign_string2(self, str2):\n",
    "        self.str2=str2\n",
    "    def show_str2(self):\n",
    "        return self.str2\n",
    "class child(parent1, parent2):\n",
    "    def assign_string3(self, str3):\n",
    "        self.str3=str3\n",
    "    def show_str3(self):\n",
    "        return self.str3\n",
    "c1=child()\n",
    "c1.assign_string1(\"Mujeeb\")\n",
    "c1.assign_string2(\"Ur\")\n",
    "c1.assign_string3(\"Rahman\")\n",
    "print(c1.show_str1())\n",
    "print(c1.show_str2())\n",
    "print(c1.show_str3())\n"
   ]
  },
  {
   "cell_type": "markdown",
   "metadata": {},
   "source": [
    "# Multi-Level Inheritance- In this we can Inherit from parent,child and grand child"
   ]
  },
  {
   "cell_type": "code",
   "execution_count": null,
   "metadata": {},
   "outputs": [],
   "source": [
    "class parent():\n",
    "    def assign_name(self, name):\n",
    "        self.name=name\n",
    "    def show_name(self):\n",
    "        return self.name\n",
    "class child():\n",
    "    def assign_age(self, age):\n",
    "        self.age=age\n",
    "    def show_age(self):\n",
    "        return self.age\n",
    "class Grandchild(parent, child):\n",
    "    def assign_gender(self, gender):\n",
    "        self.gender=gender\n",
    "    def show_gender(self):\n",
    "        return self.gender\n",
    "G1=Grandchild()\n",
    "G1.assign_name(\"shaik mujeeb ur rahman\")\n",
    "G1.assign_age(\"25\")\n",
    "G1.assign_gender(\"Male\")"
   ]
  },
  {
   "cell_type": "markdown",
   "metadata": {},
   "source": [
    "# Example 1: Creating Class and Object in Python\n"
   ]
  },
  {
   "cell_type": "code",
   "execution_count": 25,
   "metadata": {},
   "outputs": [
    {
     "name": "stdout",
     "output_type": "stream",
     "text": [
      "blu is a bird\n",
      "woo is a bird\n",
      "blu is a 10\n",
      "woo is a 15\n"
     ]
    }
   ],
   "source": [
    "class parrot():\n",
    "    # Class attribute\n",
    "    species=\"bird\"\n",
    "    # instance(object) attributes\n",
    "    def __init__(self, name, age):\n",
    "        self.name=name\n",
    "        self.age=age\n",
    "# Instantiating the parrot class\n",
    "blu=parrot(\"blu\", 10)\n",
    "woo=parrot(\"woo\", 15)\n",
    "\n",
    "# Access the class attributes\n",
    "print(\"blu is a {}\".format(blu.__class__.species))\n",
    "print(\"woo is a {}\".format(woo.__class__.species))\n",
    "\n",
    "#access the instance attributes\n",
    "print(\"{} is a {}\".format(blu.name, blu.age))\n",
    "print(\"{} is a {}\".format(woo.name, woo.age))\n"
   ]
  },
  {
   "cell_type": "markdown",
   "metadata": {},
   "source": [
    "# Methods\n",
    "# Methods are functions defined inside the body of a class. They are used to define the behaviors of an object."
   ]
  },
  {
   "cell_type": "markdown",
   "metadata": {},
   "source": [
    "# Example 2 : Creating Methods in Python\n"
   ]
  },
  {
   "cell_type": "code",
   "execution_count": 26,
   "metadata": {},
   "outputs": [
    {
     "name": "stdout",
     "output_type": "stream",
     "text": [
      "blu sings a happy\n",
      "blu likes to dance\n"
     ]
    }
   ],
   "source": [
    "class parrot():\n",
    "    def __init__(self, name, age):     #instance attributes\n",
    "        self.name=name\n",
    "        self.age=age\n",
    "    def sing(self, song):    # instance method\n",
    "        return \"{} sings a {}\".format(self.name, song)\n",
    "    def dance(self):\n",
    "        return \"{} likes to dance\".format(self.name)\n",
    "blu=parrot(\"blu\", 10)   # instantiating the object\n",
    "\n",
    "print(blu.sing(\"happy\"))    # call the instance methods\n",
    "print(blu.dance())"
   ]
  },
  {
   "cell_type": "markdown",
   "metadata": {},
   "source": [
    "# # ENCAPSULATION"
   ]
  },
  {
   "cell_type": "raw",
   "metadata": {},
   "source": [
    "# Using OOP in Python, we can restrict access to methods and variables. This prevent data from direct modification which is called encapsulation. In Python, \n",
    "#we denote private attribute using underscore as prefix i.e single “ _ “ or double “ __“."
   ]
  },
  {
   "cell_type": "code",
   "execution_count": 27,
   "metadata": {},
   "outputs": [
    {
     "name": "stdout",
     "output_type": "stream",
     "text": [
      "selling price is 900\n"
     ]
    }
   ],
   "source": [
    "class computer():\n",
    "    def __init__(self):\n",
    "        self.__maxprice=900\n",
    "    def sell(self):\n",
    "        print(\"selling price is {}\".format(self.__maxprice))\n",
    "    def setmaxprice(self, price):\n",
    "        self.__maxprice=price\n",
    "c1=computer()\n",
    "c1.sell()\n",
    "        "
   ]
  },
  {
   "cell_type": "code",
   "execution_count": 29,
   "metadata": {},
   "outputs": [
    {
     "name": "stdout",
     "output_type": "stream",
     "text": [
      "selling price is 900\n"
     ]
    }
   ],
   "source": [
    "c1.__maxprice=1000    # change the price\n",
    "c1.sell()"
   ]
  },
  {
   "cell_type": "code",
   "execution_count": 30,
   "metadata": {},
   "outputs": [
    {
     "name": "stdout",
     "output_type": "stream",
     "text": [
      "selling price is 1000\n"
     ]
    }
   ],
   "source": [
    "c1.setmaxprice(1000)     # using the setter function\n",
    "c1.sell()"
   ]
  },
  {
   "cell_type": "code",
   "execution_count": 34,
   "metadata": {},
   "outputs": [
    {
     "name": "stdout",
     "output_type": "stream",
     "text": [
      "selling price is 900\n",
      "selling price is 900\n",
      "selling price is 1000\n"
     ]
    }
   ],
   "source": [
    "class computer():\n",
    "    def __init__(self):\n",
    "        self.__maxprice=900\n",
    "    def sell(self):\n",
    "        print(\"selling price is {}\".format(self.__maxprice))\n",
    "    def setmaxprice(self, price):\n",
    "        self.__maxprice=price\n",
    "c=computer()\n",
    "c.sell()\n",
    "c.__maxprice=1000\n",
    "c.sell()\n",
    "c.setmaxprice(1000)\n",
    "c.sell()\n"
   ]
  },
  {
   "cell_type": "markdown",
   "metadata": {},
   "source": [
    "# Polymorphism"
   ]
  },
  {
   "cell_type": "raw",
   "metadata": {},
   "source": [
    "#Polymorphism is an ability (in OOP) to use common interface for multiple form (data types).\n",
    "\n",
    "Suppose, we need to color a shape, there are multiple shape option (rectangle, square, circle). However we could use same method to color any shape. This concept is called Polymorphism."
   ]
  },
  {
   "cell_type": "code",
   "execution_count": 36,
   "metadata": {},
   "outputs": [
    {
     "name": "stdout",
     "output_type": "stream",
     "text": [
      "parrot can fly\n",
      "pengiun can't fly\n"
     ]
    }
   ],
   "source": [
    "class parrot():\n",
    "    def fly(self):\n",
    "        print(\"parrot can fly\")\n",
    "    def swim(self):\n",
    "        print(\"parrot can't swim\")\n",
    "class penguin():\n",
    "    def fly(self):\n",
    "        print(\"pengiun can't fly\")\n",
    "    def swim(self):\n",
    "        print(\"penguin can swim\")\n",
    "# common interface\n",
    "def flying_bird(bird):\n",
    "    bird.fly()\n",
    "# instantiating the object\n",
    "blu=parrot()\n",
    "woo=penguin()\n",
    "\n",
    "# passing the objects\n",
    "flying_bird(blu)\n",
    "flying_bird(woo)\n",
    "\n"
   ]
  },
  {
   "cell_type": "code",
   "execution_count": null,
   "metadata": {},
   "outputs": [],
   "source": []
  }
 ],
 "metadata": {
  "kernelspec": {
   "display_name": "Python 3",
   "language": "python",
   "name": "python3"
  },
  "language_info": {
   "codemirror_mode": {
    "name": "ipython",
    "version": 3
   },
   "file_extension": ".py",
   "mimetype": "text/x-python",
   "name": "python",
   "nbconvert_exporter": "python",
   "pygments_lexer": "ipython3",
   "version": "3.7.4"
  }
 },
 "nbformat": 4,
 "nbformat_minor": 2
}
