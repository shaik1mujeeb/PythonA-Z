{
 "cells": [
  {
   "cell_type": "markdown",
   "metadata": {},
   "source": [
    "# A"
   ]
  },
  {
   "cell_type": "code",
   "execution_count": 21,
   "metadata": {},
   "outputs": [
    {
     "name": "stdout",
     "output_type": "stream",
     "text": [
      " AAA \n",
      "A   A\n",
      "A   A\n",
      "AAAAA\n",
      "A   A\n",
      "A   A\n",
      "A   A\n"
     ]
    }
   ],
   "source": [
    "for row in range(7): # \"for loop\" for rows \n",
    "    for col in range(5):  # for cols\n",
    "        if ((col==0 or col==4) and row!=0) or ((row==0 or row==3) and (col>0 and col<4)): #( the places or positions we want our small a to be in)\n",
    "            print(\"A\", end=\"\") # printing and end=\"\" to have a printed in the same line for each iteration\n",
    "        else:\n",
    "            print(end=\" \") #  to print the spaces \n",
    "    print() # to go to the next line as it takes end=\"\\n\" as default."
   ]
  },
  {
   "cell_type": "markdown",
   "metadata": {},
   "source": [
    "# B"
   ]
  },
  {
   "cell_type": "code",
   "execution_count": 20,
   "metadata": {},
   "outputs": [
    {
     "name": "stdout",
     "output_type": "stream",
     "text": [
      "BBBB \n",
      "B   B\n",
      "B   B\n",
      "BBBB \n",
      "B   B\n",
      "B   B\n",
      "BBBB \n"
     ]
    }
   ],
   "source": [
    "for row in range(7):\n",
    "    for col in range(5):\n",
    "        if (col==0) or (col==4 and (row!=0 and row!=3 and row!=6)) or ((row==0 or row==3 or row==6) and (col>0 and col<4)):\n",
    "            print(\"B\", end=\"\")\n",
    "        else:\n",
    "            print(end=\" \")\n",
    "    print()"
   ]
  },
  {
   "cell_type": "markdown",
   "metadata": {},
   "source": [
    "# C"
   ]
  },
  {
   "cell_type": "code",
   "execution_count": 22,
   "metadata": {},
   "outputs": [
    {
     "name": "stdout",
     "output_type": "stream",
     "text": [
      " CCCC\n",
      "C    \n",
      "C    \n",
      "C    \n",
      "C    \n",
      "C    \n",
      " CCCC\n"
     ]
    }
   ],
   "source": [
    "for row in range(7):\n",
    "    for col in range(5):\n",
    "        if ((col==0)and row!=0 and row!=6)or ((row==0 or row==6) and (col>0)):\n",
    "            print(\"C\", end=\"\")\n",
    "        else:\n",
    "            print(end=\" \")\n",
    "    print()"
   ]
  },
  {
   "cell_type": "markdown",
   "metadata": {},
   "source": [
    "# D"
   ]
  },
  {
   "cell_type": "code",
   "execution_count": 19,
   "metadata": {},
   "outputs": [
    {
     "name": "stdout",
     "output_type": "stream",
     "text": [
      "DDDDD \n",
      "D    D\n",
      "D    D\n",
      "D    D\n",
      "D    D\n",
      "D    D\n",
      "DDDDD \n"
     ]
    }
   ],
   "source": [
    "for row in range(7):\n",
    "    for col in range(6):\n",
    "        if (col==0) or (col==5 and (row!=0 and row!=6)) or ((row==0 or row==6) and (col>0 and col<5)):\n",
    "            print(\"D\", end=\"\")\n",
    "        else:\n",
    "            print(end=\" \")\n",
    "    print()"
   ]
  },
  {
   "cell_type": "markdown",
   "metadata": {},
   "source": [
    "# E"
   ]
  },
  {
   "cell_type": "code",
   "execution_count": 50,
   "metadata": {},
   "outputs": [
    {
     "name": "stdout",
     "output_type": "stream",
     "text": [
      "eeeee\n",
      "e    \n",
      "e    \n",
      "eeeee\n",
      "e    \n",
      "e    \n",
      "eeeee\n"
     ]
    }
   ],
   "source": [
    "for row in range(7):\n",
    "    for col in range(5):\n",
    "        if col==0 or (row==0 or row==3 or row==6 and (col>0)):\n",
    "            print(\"e\", end=\"\")\n",
    "        else:\n",
    "            print(end=\" \")\n",
    "    print()"
   ]
  },
  {
   "cell_type": "markdown",
   "metadata": {},
   "source": [
    "# F"
   ]
  },
  {
   "cell_type": "code",
   "execution_count": 23,
   "metadata": {},
   "outputs": [
    {
     "name": "stdout",
     "output_type": "stream",
     "text": [
      "F F F F F \n",
      "F     \n",
      "F     \n",
      "F F F F F \n",
      "F     \n",
      "F     \n",
      "F     \n"
     ]
    }
   ],
   "source": [
    "for row in range(7):\n",
    "    for col in range(5):\n",
    "        if col==0 or (row==0 or row==3 and(col>0)):\n",
    "            print(\"F\", end=\" \")\n",
    "        else:\n",
    "            print(end=\" \")\n",
    "    print()"
   ]
  },
  {
   "cell_type": "markdown",
   "metadata": {},
   "source": [
    "# G"
   ]
  },
  {
   "cell_type": "code",
   "execution_count": 63,
   "metadata": {},
   "outputs": [
    {
     "name": "stdout",
     "output_type": "stream",
     "text": [
      " ggg \n",
      "g   g\n",
      "g    \n",
      "g    \n",
      "g ggg\n",
      "g   g\n",
      " ggg \n"
     ]
    }
   ],
   "source": [
    "for row in range(7):\n",
    "    for col in range(5):\n",
    "        if ((col==0) and (row!=0 and row!=6)) or ((row==4) and (col!=1)) or ((row==0 or row==6) and (col>0 and col<4)) or (col==4 and (row!=0 and row!=2 and row!=3 and row!=6)):\n",
    "            print(\"g\", end=\"\")\n",
    "        else:\n",
    "            print(end=\" \")\n",
    "    print()"
   ]
  },
  {
   "cell_type": "markdown",
   "metadata": {},
   "source": [
    "# H"
   ]
  },
  {
   "cell_type": "code",
   "execution_count": 24,
   "metadata": {
    "scrolled": true
   },
   "outputs": [
    {
     "name": "stdout",
     "output_type": "stream",
     "text": [
      "H   H\n",
      "H   H\n",
      "H   H\n",
      "HHHHH\n",
      "H   H\n",
      "H   H\n",
      "H   H\n"
     ]
    }
   ],
   "source": [
    "for row in range(7):\n",
    "    for col in range(5):\n",
    "        if col==0 or col==4 or ((row==3) and (col<4 and col>0)):\n",
    "            print(\"H\", end=\"\")\n",
    "        else:\n",
    "            print(end=\" \")\n",
    "    print()"
   ]
  },
  {
   "cell_type": "markdown",
   "metadata": {},
   "source": [
    "# I"
   ]
  },
  {
   "cell_type": "code",
   "execution_count": 25,
   "metadata": {},
   "outputs": [
    {
     "name": "stdout",
     "output_type": "stream",
     "text": [
      "IIIII\n",
      "  I  \n",
      "  I  \n",
      "  I  \n",
      "  I  \n",
      "  I  \n",
      "IIIII\n"
     ]
    }
   ],
   "source": [
    "for row in range(7):\n",
    "    for col in range(5):\n",
    "        if ((col==2) and (row!=0 and row!=6)) or row==0 or row==6:\n",
    "            print(\"I\", end=\"\")\n",
    "        else:\n",
    "            print(end=\" \")\n",
    "    print()\n",
    "            "
   ]
  },
  {
   "cell_type": "markdown",
   "metadata": {},
   "source": [
    "# J"
   ]
  },
  {
   "cell_type": "code",
   "execution_count": 26,
   "metadata": {},
   "outputs": [
    {
     "name": "stdout",
     "output_type": "stream",
     "text": [
      "JJJJJJ\n",
      "   J  \n",
      "   J  \n",
      "   J  \n",
      "   J  \n",
      "J  J  \n",
      " JJJ  \n"
     ]
    }
   ],
   "source": [
    "for row in range(7):\n",
    "    for col in range(6):\n",
    "        if ((col==3) and (row!=0 and row!=6)) or row==0 or ((row==6) and (col!=4 and col!=5 and col!=0)) or ((row==5) and (col<1)):\n",
    "        \n",
    "            print(\"J\", end=\"\")\n",
    "        else:\n",
    "            print(end=\" \")\n",
    "    print()"
   ]
  },
  {
   "cell_type": "markdown",
   "metadata": {},
   "source": [
    "# K"
   ]
  },
  {
   "cell_type": "code",
   "execution_count": 27,
   "metadata": {},
   "outputs": [
    {
     "name": "stdout",
     "output_type": "stream",
     "text": [
      "K   K \n",
      "K  K  \n",
      "K K   \n",
      "KK    \n",
      "K K   \n",
      "K   K \n",
      "K    K\n"
     ]
    }
   ],
   "source": [
    "for row in range(7):\n",
    "    for col in range(6):\n",
    "        if col==0 or (row==0 and col==4) or (row==1 and col==3) or (row==2 and col==2) or (row==3 and col==1) or (row==4 and col==2) or (row==5 and col==4) or (row==6 and col==5):\n",
    "            print(\"K\", end=\"\")\n",
    "        else:\n",
    "            print(end=\" \")\n",
    "    print()"
   ]
  },
  {
   "cell_type": "markdown",
   "metadata": {},
   "source": [
    "# L"
   ]
  },
  {
   "cell_type": "code",
   "execution_count": 47,
   "metadata": {},
   "outputs": [
    {
     "name": "stdout",
     "output_type": "stream",
     "text": [
      "L    \n",
      "L    \n",
      "L    \n",
      "L    \n",
      "L    \n",
      "LLLLL\n"
     ]
    }
   ],
   "source": [
    "for row in range(6):\n",
    "    for col in range(5):\n",
    "        if (col==0 and row!=5) or row==5:\n",
    "            print(\"L\", end=\"\")\n",
    "        else:\n",
    "            print(end=\" \")\n",
    "    print()"
   ]
  },
  {
   "cell_type": "markdown",
   "metadata": {},
   "source": [
    "# M"
   ]
  },
  {
   "cell_type": "code",
   "execution_count": 28,
   "metadata": {},
   "outputs": [
    {
     "name": "stdout",
     "output_type": "stream",
     "text": [
      "MM   MM\n",
      "M M M M\n",
      "M  M  M\n",
      "M  M  M\n"
     ]
    }
   ],
   "source": [
    "\n",
    "for row in range(4):\n",
    "    for col in range(7):\n",
    "        if col==0 or col==6 or (col==1 and row==0) or (col==2 and row==1) or (row==0 and col==5) or (row==1 and col==4) or (row==2 and col==3) or (row==3 and col==3):\n",
    "            print(\"M\", end=\"\")\n",
    "        else:\n",
    "            print(end=\" \")\n",
    "    print()"
   ]
  },
  {
   "cell_type": "markdown",
   "metadata": {},
   "source": [
    "# O"
   ]
  },
  {
   "cell_type": "code",
   "execution_count": 29,
   "metadata": {},
   "outputs": [
    {
     "name": "stdout",
     "output_type": "stream",
     "text": [
      " OOO \n",
      "O   O\n",
      "O   O\n",
      "O   O\n",
      "O   O\n",
      "O   O\n",
      " OOO \n"
     ]
    }
   ],
   "source": [
    "for row in range(7):\n",
    "    for col in range(5):\n",
    "        if ((col==0) and (row!=0 and row!=6)) or ((col==4) and (row!=0 and row!=6)) or ((row==0 or row==6) and (col>0 and col<4)):\n",
    "            print(\"O\", end=\"\")\n",
    "        else:\n",
    "            print(end=\" \")\n",
    "    print()"
   ]
  },
  {
   "cell_type": "markdown",
   "metadata": {},
   "source": [
    "# P"
   ]
  },
  {
   "cell_type": "code",
   "execution_count": 30,
   "metadata": {},
   "outputs": [
    {
     "name": "stdout",
     "output_type": "stream",
     "text": [
      "PPPPP \n",
      "P    P\n",
      "P    P\n",
      "PPPPP \n",
      "P     \n",
      "P     \n",
      "P     \n"
     ]
    }
   ],
   "source": [
    "for row in range(7):\n",
    "    for col in range(6):\n",
    "        if col==0 or ((col==4) and (row<4 and row!=1 and row!=2)) or ((row==3 or row==0) and (col>0 and col<4 and col!=5)) or ((col==5) and (row<4 and row!=0 and row!=3)):\n",
    "            print(\"P\", end=\"\")\n",
    "        else:\n",
    "            print(end=\" \")\n",
    "    print()"
   ]
  },
  {
   "cell_type": "markdown",
   "metadata": {},
   "source": [
    "# Q"
   ]
  },
  {
   "cell_type": "code",
   "execution_count": 31,
   "metadata": {},
   "outputs": [
    {
     "name": "stdout",
     "output_type": "stream",
     "text": [
      " QQQQ  \n",
      "Q    Q \n",
      "Q    Q \n",
      "Q    Q \n",
      "Q    Q \n",
      "Q   QQ \n",
      " QQQQQ \n",
      "      Q\n"
     ]
    }
   ],
   "source": [
    "for row in range(8):\n",
    "    for col in range(7):\n",
    "        if ((col==0) and (row!=0 and row!=6 and row!=7)) or ((col==5) and (row!=0 and row!=7)) or ((row==0 or row==6) and (col>0 and col<5)) or (row==5 and col==4) or (col==6 and row==7):\n",
    "            print(\"Q\", end=\"\")\n",
    "        else:\n",
    "            print(end=\" \")\n",
    "    print()"
   ]
  },
  {
   "cell_type": "markdown",
   "metadata": {},
   "source": [
    "# S"
   ]
  },
  {
   "cell_type": "code",
   "execution_count": 36,
   "metadata": {},
   "outputs": [
    {
     "name": "stdout",
     "output_type": "stream",
     "text": [
      " SSSS\n",
      "S    \n",
      "S    \n",
      " SSSS\n",
      "    S\n",
      "    S\n",
      "SSSS \n"
     ]
    }
   ],
   "source": [
    "for row in range(7):\n",
    "    for col in range(5):\n",
    "        if col==0 and (row<4 and row!=3 and row!=0) or ((row==0 or row==3) and (col>0)) or row==6 and col<4 or ((col==4) and (row>3 and row!=6)):\n",
    "            print(\"S\", end=\"\")\n",
    "            \n",
    "        else:\n",
    "            print(end=\" \")\n",
    "    print()\n",
    "            "
   ]
  },
  {
   "cell_type": "markdown",
   "metadata": {},
   "source": [
    "# T"
   ]
  },
  {
   "cell_type": "code",
   "execution_count": 29,
   "metadata": {},
   "outputs": [
    {
     "name": "stdout",
     "output_type": "stream",
     "text": [
      "TTTTTTT\n",
      "   T   \n",
      "   T   \n",
      "   T   \n",
      "   T   \n",
      "   T   \n",
      "   T   \n"
     ]
    }
   ],
   "source": [
    "for row in range(7):\n",
    "    for col in range(7):\n",
    "        if row==0 or (col==3 and row!=0):\n",
    "            print(\"T\", end=\"\")\n",
    "        else:\n",
    "            print(end=\" \")\n",
    "    print()"
   ]
  },
  {
   "cell_type": "markdown",
   "metadata": {},
   "source": [
    "# U"
   ]
  },
  {
   "cell_type": "code",
   "execution_count": 37,
   "metadata": {},
   "outputs": [
    {
     "name": "stdout",
     "output_type": "stream",
     "text": [
      "U   U\n",
      "U   U\n",
      "U   U\n",
      "U   U\n",
      "U   U\n",
      " UUU \n"
     ]
    }
   ],
   "source": [
    "for row in range(6):\n",
    "    for col in range(5):\n",
    "        if ((col==0 or col==4) and (row!=5)) or ((row==5) and (col>0 and col<4)):\n",
    "            print(\"U\", end=\"\")\n",
    "        else:\n",
    "            print(end=\" \")\n",
    "    print()"
   ]
  },
  {
   "cell_type": "markdown",
   "metadata": {},
   "source": [
    "# W"
   ]
  },
  {
   "cell_type": "code",
   "execution_count": 38,
   "metadata": {},
   "outputs": [
    {
     "name": "stdout",
     "output_type": "stream",
     "text": [
      "W  W  W\n",
      "W W W W\n",
      "WW   WW\n",
      "W     W\n"
     ]
    }
   ],
   "source": [
    "i=0\n",
    "j=3\n",
    "for row in range(4):\n",
    "    for col in range(7):\n",
    "        if col==0 or col==6 or (col==5 and row==2) or (col==4 and row==1):\n",
    "            print(\"W\", end=\"\")\n",
    "        elif (row==i and col==j):\n",
    "                print(\"W\", end=\"\")\n",
    "                i=i+1\n",
    "                j=j-1\n",
    "        else:\n",
    "            print(end=\" \")\n",
    "    print()"
   ]
  },
  {
   "cell_type": "markdown",
   "metadata": {},
   "source": [
    "# z"
   ]
  },
  {
   "cell_type": "code",
   "execution_count": 39,
   "metadata": {},
   "outputs": [
    {
     "name": "stdout",
     "output_type": "stream",
     "text": [
      "zzzzzz\n",
      "Z   Z \n",
      "   Z  \n",
      "  Z   \n",
      " Z    \n",
      "Zzzzzz\n"
     ]
    }
   ],
   "source": [
    "i=1\n",
    "j=5\n",
    "for row in range(6):\n",
    "    for col in range(6):\n",
    "        if row==0 or (row==5 and col!=0):\n",
    "            print(\"z\", end=\"\")\n",
    "        elif (row==i or col==j):\n",
    "            print(\"Z\", end=\"\")\n",
    "            i=i+1\n",
    "            j=j-1       \n",
    "        else:\n",
    "            print(end=\" \")\n",
    "    print()"
   ]
  }
 ],
 "metadata": {
  "kernelspec": {
   "display_name": "Python 3",
   "language": "python",
   "name": "python3"
  },
  "language_info": {
   "codemirror_mode": {
    "name": "ipython",
    "version": 3
   },
   "file_extension": ".py",
   "mimetype": "text/x-python",
   "name": "python",
   "nbconvert_exporter": "python",
   "pygments_lexer": "ipython3",
   "version": "3.7.4"
  }
 },
 "nbformat": 4,
 "nbformat_minor": 2
}
